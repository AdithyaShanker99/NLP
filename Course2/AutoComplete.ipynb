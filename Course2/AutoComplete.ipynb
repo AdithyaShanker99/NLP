{
 "cells": [
  {
   "cell_type": "code",
   "execution_count": 175,
   "metadata": {},
   "outputs": [
    {
     "name": "stderr",
     "output_type": "stream",
     "text": [
      "[nltk_data] Downloading package punkt to\n",
      "[nltk_data]     /Users/adithyashanker/nltk_data...\n",
      "[nltk_data]   Package punkt is already up-to-date!\n"
     ]
    },
    {
     "data": {
      "text/plain": [
       "True"
      ]
     },
     "execution_count": 175,
     "metadata": {},
     "output_type": "execute_result"
    }
   ],
   "source": [
    "import numpy as np\n",
    "import matplotlib as plt\n",
    "import nltk               # NLP toolkit\n",
    "import re\n",
    "\n",
    "nltk.download('punkt')    # Download the Punkt sentence tokenizer "
   ]
  },
  {
   "cell_type": "code",
   "execution_count": 176,
   "metadata": {},
   "outputs": [],
   "source": [
    "corpus = \"Lyn drinks chocolate\\nJohn drinks tea\\nlyn eats chocolate\""
   ]
  },
  {
   "cell_type": "code",
   "execution_count": 201,
   "metadata": {},
   "outputs": [],
   "source": [
    "def preprocess(corpus, n):\n",
    "    corpus = corpus.lower()\n",
    "    #print(corpus)\n",
    "    corpus = re.sub(r\"[^a-zA-Z0-9.?! \\n]+\", \"\", corpus)\n",
    "    #print(corpus)\n",
    "    sentences = corpus.split(\"\\n\")\n",
    "    #print(sentences)\n",
    "    tokens = []\n",
    "    for sentence in sentences:\n",
    "        tokenized_sentence = nltk.word_tokenize(sentence)\n",
    "        tokenized_sentence = [\"<s>\"] * (n - 1) + tokenized_sentence + [\"</s>\"]\n",
    "        tokens.append(tokenized_sentence)\n",
    "    return tokens\n"
   ]
  },
  {
   "cell_type": "code",
   "execution_count": 204,
   "metadata": {},
   "outputs": [],
   "source": [
    "def count_prob(tokens):\n",
    "    count = {}\n",
    "    for sentence in tokens:\n",
    "        for token in sentence:\n",
    "            count[token] = count.get(token,0)+1\n",
    "    return count\n",
    "\n",
    "counts = count_prob(corpus)"
   ]
  },
  {
   "cell_type": "code",
   "execution_count": 205,
   "metadata": {},
   "outputs": [],
   "source": [
    "train_set = preprocess(corpus, 2)\n",
    "counts = count_prob(train_set)"
   ]
  },
  {
   "cell_type": "code",
   "execution_count": 206,
   "metadata": {},
   "outputs": [],
   "source": [
    "def  create_closed_vocab(counts, threshold=2):\n",
    "    vocab = []\n",
    "    for k,v in counts.items():\n",
    "        if v >=threshold:\n",
    "            vocab.append(k)\n",
    "    return vocab"
   ]
  },
  {
   "cell_type": "code",
   "execution_count": 207,
   "metadata": {},
   "outputs": [
    {
     "name": "stdout",
     "output_type": "stream",
     "text": [
      "['<s>', 'lyn', 'drinks', 'chocolate', '</s>']\n"
     ]
    }
   ],
   "source": [
    "vocab = create_closed_vocab(counts)\n",
    "print(vocab)"
   ]
  },
  {
   "cell_type": "code",
   "execution_count": 208,
   "metadata": {},
   "outputs": [
    {
     "ename": "SyntaxError",
     "evalue": "invalid syntax (3884788031.py, line 1)",
     "output_type": "error",
     "traceback": [
      "\u001b[0;36m  Cell \u001b[0;32mIn[208], line 1\u001b[0;36m\u001b[0m\n\u001b[0;31m    train_set = [word for word in train_set if word in vocab else \"<UNK>\"]\u001b[0m\n\u001b[0m                                                             ^\u001b[0m\n\u001b[0;31mSyntaxError\u001b[0m\u001b[0;31m:\u001b[0m invalid syntax\n"
     ]
    }
   ],
   "source": [
    "replace_oov_words(train_set, )"
   ]
  },
  {
   "cell_type": "code",
   "execution_count": 180,
   "metadata": {},
   "outputs": [],
   "source": [
    "def count_n_grams(counts, tokens):\n",
    "    counts_sorted = sorted(counts.keys())\n",
    "    dim = len(counts_sorted)\n",
    "    matrix = np.zeros((dim,dim))\n",
    "    for sentence in tokens:\n",
    "        for i in range(len(sentence)-1):\n",
    "            index1 = counts_sorted.index(sentence[i])\n",
    "            index2 = counts_sorted.index(sentence[i+1])\n",
    "            matrix[index1][index2]+=1\n",
    "    return matrix,counts_sorted\n"
   ]
  },
  {
   "cell_type": "code",
   "execution_count": 181,
   "metadata": {},
   "outputs": [
    {
     "name": "stdout",
     "output_type": "stream",
     "text": [
      "[[0. 0. 0. 0. 0. 0. 0. 0.]\n",
      " [0. 0. 0. 0. 0. 1. 2. 0.]\n",
      " [2. 0. 0. 0. 0. 0. 0. 0.]\n",
      " [0. 0. 1. 0. 0. 0. 0. 1.]\n",
      " [0. 0. 1. 0. 0. 0. 0. 0.]\n",
      " [0. 0. 0. 1. 0. 0. 0. 0.]\n",
      " [0. 0. 0. 1. 1. 0. 0. 0.]\n",
      " [1. 0. 0. 0. 0. 0. 0. 0.]]\n"
     ]
    }
   ],
   "source": [
    "bigrams,counts_sorted = generate_matrix(counts, tokenized)\n",
    "print(bigrams)"
   ]
  },
  {
   "cell_type": "code",
   "execution_count": 182,
   "metadata": {},
   "outputs": [],
   "source": [
    "def generate_probablities(grams):\n",
    "    matrix = grams.copy()\n",
    "    for row in range(len(matrix)):\n",
    "        s = sum(matrix[row])\n",
    "        for col in range(len(matrix)):\n",
    "            if s==0:\n",
    "                break\n",
    "            matrix[row][col] = matrix[row][col]/s\n",
    "    return matrix"
   ]
  },
  {
   "cell_type": "code",
   "execution_count": 183,
   "metadata": {},
   "outputs": [],
   "source": [
    "probabilities = generate_probablities(bigrams)"
   ]
  },
  {
   "cell_type": "code",
   "execution_count": 187,
   "metadata": {},
   "outputs": [],
   "source": [
    "def calculate_prob_sentence(sentence, probabilities, counts_sorted):\n",
    "    prob = 1\n",
    "    for i in range(len(sentence)-1):\n",
    "        index1 = counts_sorted.index(sentence[i])\n",
    "        index2 = counts_sorted.index(sentence[i+1])\n",
    "        prob *= probabilities[index1][index2]\n",
    "    return prob\n",
    "            \n",
    "        "
   ]
  },
  {
   "cell_type": "code",
   "execution_count": 188,
   "metadata": {},
   "outputs": [
    {
     "name": "stdout",
     "output_type": "stream",
     "text": [
      "0.5\n"
     ]
    }
   ],
   "source": [
    "print(calculate_prob_sentence(\"john drinks chocolate\".split(), probabilities, counts_sorted))"
   ]
  },
  {
   "cell_type": "code",
   "execution_count": null,
   "metadata": {},
   "outputs": [],
   "source": []
  }
 ],
 "metadata": {
  "kernelspec": {
   "display_name": "base",
   "language": "python",
   "name": "python3"
  },
  "language_info": {
   "codemirror_mode": {
    "name": "ipython",
    "version": 3
   },
   "file_extension": ".py",
   "mimetype": "text/x-python",
   "name": "python",
   "nbconvert_exporter": "python",
   "pygments_lexer": "ipython3",
   "version": "3.10.9"
  }
 },
 "nbformat": 4,
 "nbformat_minor": 2
}
