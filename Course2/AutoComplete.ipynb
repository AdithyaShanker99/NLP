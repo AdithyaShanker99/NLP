{
 "cells": [
  {
   "cell_type": "code",
   "execution_count": 1,
   "metadata": {},
   "outputs": [
    {
     "name": "stderr",
     "output_type": "stream",
     "text": [
      "[nltk_data] Downloading package punkt to\n",
      "[nltk_data]     /Users/adithyashanker/nltk_data...\n",
      "[nltk_data]   Package punkt is already up-to-date!\n"
     ]
    },
    {
     "data": {
      "text/plain": [
       "True"
      ]
     },
     "execution_count": 1,
     "metadata": {},
     "output_type": "execute_result"
    }
   ],
   "source": [
    "import numpy as np\n",
    "import matplotlib as plt\n",
    "import nltk               # NLP toolkit\n",
    "import re\n",
    "\n",
    "nltk.download('punkt')    # Download the Punkt sentence tokenizer "
   ]
  },
  {
   "cell_type": "code",
   "execution_count": 17,
   "metadata": {},
   "outputs": [],
   "source": [
    "corpus = \"I am happy because I am happy learning\""
   ]
  },
  {
   "cell_type": "code",
   "execution_count": 13,
   "metadata": {},
   "outputs": [],
   "source": [
    "def preprocess(corpus, n):\n",
    "    corpus = corpus.lower()\n",
    "    corpus = re.sub(r\"[^a-zA-Z0-9.?! ]+\", \"\", corpus)\n",
    "    sentences = corpus.split(\"\\n\")\n",
    "    tokens = []\n",
    "    for sentence in sentences:\n",
    "        tokenized_sentence = nltk.word_tokenize(sentence)\n",
    "        tokenized_sentence = [\"<s>\"] * (n - 1) + tokenized_sentence + [\"<e>\"]\n",
    "        tokens.append(tokenized_sentence)\n",
    "    return tokens\n"
   ]
  },
  {
   "cell_type": "code",
   "execution_count": 14,
   "metadata": {},
   "outputs": [
    {
     "name": "stdout",
     "output_type": "stream",
     "text": [
      "[['<s>', '<s>', 'i', 'am', 'happy', 'because', 'i', 'am', 'learning', '<e>']]\n"
     ]
    }
   ],
   "source": [
    "print(preprocess(corpus,3))"
   ]
  },
  {
   "cell_type": "code",
   "execution_count": 15,
   "metadata": {},
   "outputs": [],
   "source": [
    "def count_prob(corpus):\n",
    "    count = {}\n",
    "    for word in corpus.split():\n",
    "        count[word] = count.get(word,0)+1\n",
    "    return count\n",
    "\n",
    "counts = count_prob(corpus)"
   ]
  },
  {
   "cell_type": "code",
   "execution_count": 18,
   "metadata": {},
   "outputs": [
    {
     "name": "stdout",
     "output_type": "stream",
     "text": [
      "{('<s>', '<s>', 'i'): 1, ('<s>', 'i', 'am'): 1, ('i', 'am', 'happy'): 2, ('am', 'happy', 'because'): 1, ('happy', 'because', 'i'): 1, ('because', 'i', 'am'): 1, ('am', 'happy', 'learning'): 1}\n"
     ]
    }
   ],
   "source": [
    "def count_all_trigrams(tokens):\n",
    "    counts = {}\n",
    "    for tokenized_sentence in tokens:\n",
    "        for j in range(len(tokenized_sentence)-3):\n",
    "            counts[(tokenized_sentence[j], tokenized_sentence[j+1], tokenized_sentence[j+2])] = counts.get((tokenized_sentence[j], tokenized_sentence[j+1], tokenized_sentence[j+2]), 0)+1\n",
    "    return counts\n",
    "\n",
    "print(count_all_trigrams(preprocess(corpus,3)))\n"
   ]
  },
  {
   "cell_type": "code",
   "execution_count": null,
   "metadata": {},
   "outputs": [],
   "source": []
  },
  {
   "cell_type": "code",
   "execution_count": null,
   "metadata": {},
   "outputs": [],
   "source": [
    "\n",
    "    "
   ]
  },
  {
   "cell_type": "code",
   "execution_count": null,
   "metadata": {},
   "outputs": [],
   "source": []
  }
 ],
 "metadata": {
  "kernelspec": {
   "display_name": "base",
   "language": "python",
   "name": "python3"
  },
  "language_info": {
   "codemirror_mode": {
    "name": "ipython",
    "version": 3
   },
   "file_extension": ".py",
   "mimetype": "text/x-python",
   "name": "python",
   "nbconvert_exporter": "python",
   "pygments_lexer": "ipython3",
   "version": "3.10.9"
  }
 },
 "nbformat": 4,
 "nbformat_minor": 2
}
