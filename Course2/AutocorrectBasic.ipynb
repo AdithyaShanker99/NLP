{
 "cells": [
  {
   "cell_type": "code",
   "execution_count": 14,
   "metadata": {},
   "outputs": [],
   "source": [
    "import numpy as np\n",
    "import regex as re\n",
    "from collections import Counter "
   ]
  },
  {
   "cell_type": "code",
   "execution_count": 15,
   "metadata": {},
   "outputs": [],
   "source": [
    "corpus = 'red pink pink blue blue yellow ORANGE BLUE BLUE PINK' # 🌈"
   ]
  },
  {
   "cell_type": "code",
   "execution_count": 16,
   "metadata": {},
   "outputs": [],
   "source": [
    "def process_corpus(corpus) :\n",
    "    corpus_lower = corpus.lower()\n",
    "    return re.findall(r'\\w+', corpus_lower)"
   ]
  },
  {
   "cell_type": "code",
   "execution_count": 17,
   "metadata": {},
   "outputs": [],
   "source": [
    "def dictionary(corpus):\n",
    "    words = process_corpus(corpus)\n",
    "    word_dic = {}\n",
    "    for word in words:\n",
    "        word_dic[word] = word_dic.get(word,0)+1\n",
    "    counts_b = Counter(word_dic)\n",
    "    return(len(words),counts_b)"
   ]
  },
  {
   "cell_type": "code",
   "execution_count": 18,
   "metadata": {},
   "outputs": [],
   "source": [
    "def probability(word,len_words,words_dic):\n",
    "    return words_dic[word]/len_words"
   ]
  },
  {
   "cell_type": "code",
   "execution_count": 29,
   "metadata": {},
   "outputs": [],
   "source": [
    "def minimum_edit_distance(word1,word2, del_cost=1, ins_cost=1, repl_cost=2):\n",
    "    edit_table = np.zeros((len(word1)+1,len(word2)+1))\n",
    "    for i in range(len(word1)+1):\n",
    "        edit_table[i][0] = i\n",
    "    for i in range(len(word2)+1):\n",
    "        edit_table[0][i] = i\n",
    "    for i in range(1,len(word1)+1):\n",
    "        for j in range(1,len(word2)+1):\n",
    "            op_del = edit_table[i-1][j] + del_cost\n",
    "            op_ins = edit_table[i][j-1] + ins_cost\n",
    "            op_repl = edit_table[i-1][j-1]\n",
    "            if word1[i-1] != word2[j-1]:\n",
    "                op_repl += repl_cost\n",
    "            else:\n",
    "                op_repl+= 0\n",
    "            edit_table[i][j]=np.min((op_del,op_ins, op_repl))\n",
    "    return edit_table\n"
   ]
  },
  {
   "cell_type": "code",
   "execution_count": 31,
   "metadata": {},
   "outputs": [
    {
     "name": "stdout",
     "output_type": "stream",
     "text": [
      "[[0. 1. 2. 3. 4. 5. 6.]\n",
      " [1. 0. 1. 2. 3. 4. 5.]\n",
      " [2. 1. 0. 1. 2. 3. 4.]\n",
      " [3. 2. 1. 0. 1. 2. 3.]\n",
      " [4. 3. 2. 1. 2. 1. 2.]\n",
      " [5. 4. 3. 2. 3. 2. 1.]]\n"
     ]
    }
   ],
   "source": [
    "print(minimum_edit_distance(\"money\",\"monkey\"))"
   ]
  },
  {
   "cell_type": "code",
   "execution_count": null,
   "metadata": {},
   "outputs": [],
   "source": []
  }
 ],
 "metadata": {
  "kernelspec": {
   "display_name": "base",
   "language": "python",
   "name": "python3"
  },
  "language_info": {
   "codemirror_mode": {
    "name": "ipython",
    "version": 3
   },
   "file_extension": ".py",
   "mimetype": "text/x-python",
   "name": "python",
   "nbconvert_exporter": "python",
   "pygments_lexer": "ipython3",
   "version": "3.10.9"
  }
 },
 "nbformat": 4,
 "nbformat_minor": 2
}
