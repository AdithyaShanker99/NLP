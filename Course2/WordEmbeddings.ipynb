{
 "cells": [
  {
   "cell_type": "code",
   "execution_count": 96,
   "metadata": {},
   "outputs": [],
   "source": [
    "import nltk\n",
    "from nltk.tokenize import punkt\n",
    "#import emoji\n",
    "import re\n",
    "import numpy as np\n",
    "import torch\n",
    "import torch.nn as nn\n",
    "import torch.nn.functional as F"
   ]
  },
  {
   "cell_type": "code",
   "execution_count": 72,
   "metadata": {},
   "outputs": [],
   "source": [
    "corpus = 'I am happy because I am learning'"
   ]
  },
  {
   "cell_type": "code",
   "execution_count": 73,
   "metadata": {},
   "outputs": [
    {
     "name": "stdout",
     "output_type": "stream",
     "text": [
      "['i', 'am', 'happy', 'because', 'i', 'am', 'learning']\n"
     ]
    }
   ],
   "source": [
    "def preprocess(corpus):\n",
    "    data = re.sub(r'[,!?;-]+','.', corpus)\n",
    "    data = nltk.word_tokenize(data)\n",
    "    data = [ch.lower() for ch in data if ch.isalpha() or ch == '.']\n",
    "    return data\n",
    "\n",
    "words = preprocess(corpus)\n",
    "print(words)"
   ]
  },
  {
   "cell_type": "code",
   "execution_count": 74,
   "metadata": {},
   "outputs": [
    {
     "name": "stdout",
     "output_type": "stream",
     "text": [
      "<generator object get_windows at 0x7fcfc8fbd9a0>\n"
     ]
    }
   ],
   "source": [
    "def get_windows(words, C):\n",
    "    windows = []\n",
    "    for i in range(C,len(words)-C):\n",
    "        center_word = words[i]\n",
    "        context_words = words[(i-C):i] + words[(i+1):(i+C+1)]\n",
    "        yield  context_words, center_word\n",
    "\n",
    "print(get_windows(words,2))"
   ]
  },
  {
   "cell_type": "code",
   "execution_count": 75,
   "metadata": {},
   "outputs": [],
   "source": [
    "def build_vocab(corpus):\n",
    "    vocab = {}\n",
    "    for word in corpus:\n",
    "        vocab[word] = vocab.get(word,0)+1\n",
    "    return sorted(vocab.keys())"
   ]
  },
  {
   "cell_type": "code",
   "execution_count": 76,
   "metadata": {},
   "outputs": [],
   "source": [
    "vocab = build_vocab(words)"
   ]
  },
  {
   "cell_type": "code",
   "execution_count": 77,
   "metadata": {},
   "outputs": [],
   "source": [
    "def one_hot_vector(sorted_vocab, word):\n",
    "    vec = np.zeros(len(sorted_vocab))\n",
    "    #print(vec)\n",
    "    vec[sorted_vocab.index(word)] = 1\n",
    "    #print(vec)\n",
    "    return vec"
   ]
  },
  {
   "cell_type": "code",
   "execution_count": 78,
   "metadata": {},
   "outputs": [
    {
     "name": "stdout",
     "output_type": "stream",
     "text": [
      "[0. 1. 0. 0. 0.]\n"
     ]
    }
   ],
   "source": [
    "print(one_hot_vector(vocab, \"because\"))"
   ]
  },
  {
   "cell_type": "code",
   "execution_count": 79,
   "metadata": {},
   "outputs": [],
   "source": [
    "def one_hot_context_words(context_words, vocab):\n",
    "    vec = np.mean([one_hot_vector(vocab, word) for word in context_words ], axis=0)\n",
    "    return vec"
   ]
  },
  {
   "cell_type": "code",
   "execution_count": 80,
   "metadata": {},
   "outputs": [
    {
     "name": "stdout",
     "output_type": "stream",
     "text": [
      "[0.25 0.25 0.   0.5  0.  ]\n"
     ]
    }
   ],
   "source": [
    "print(one_hot_context_words([\"i\",\"am\",\"because\",\"i\"], vocab))"
   ]
  },
  {
   "cell_type": "code",
   "execution_count": 81,
   "metadata": {},
   "outputs": [
    {
     "name": "stdout",
     "output_type": "stream",
     "text": [
      "['i', 'am', 'because', 'i'],[0.25 0.25 0.   0.5  0.  ],happy, [0. 0. 1. 0. 0.]\n",
      "['am', 'happy', 'i', 'am'],[0.5  0.   0.25 0.25 0.  ],because, [0. 1. 0. 0. 0.]\n",
      "['happy', 'because', 'am', 'learning'],[0.25 0.25 0.25 0.   0.25],i, [0. 0. 0. 1. 0.]\n"
     ]
    }
   ],
   "source": [
    "for x,y in get_windows(words,2):\n",
    "    print(f'{x},{one_hot_context_words(x, vocab)},{y}, {one_hot_vector(vocab,y)}')"
   ]
  },
  {
   "cell_type": "code",
   "execution_count": 82,
   "metadata": {},
   "outputs": [],
   "source": [
    "def reLU(input):\n",
    "    return int(input>0)*input"
   ]
  },
  {
   "cell_type": "code",
   "execution_count": 90,
   "metadata": {},
   "outputs": [],
   "source": [
    "def softmax(z_vec):\n",
    "    exp = np.exp(z_vec)\n",
    "    #print(exp)\n",
    "    denom = np.sum(exp)\n",
    "    #print(soft)\n",
    "    return exp/denom\n"
   ]
  },
  {
   "cell_type": "code",
   "execution_count": 94,
   "metadata": {},
   "outputs": [],
   "source": [
    "soft = softmax(np.array([9,8,11,10,8.5]))"
   ]
  },
  {
   "cell_type": "code",
   "execution_count": 92,
   "metadata": {},
   "outputs": [],
   "source": [
    "def cross_entropy_loss(actual, predicted):\n",
    "    return -np.sum(actual * np.log(predicted))\n"
   ]
  },
  {
   "cell_type": "code",
   "execution_count": 95,
   "metadata": {},
   "outputs": [
    {
     "name": "stdout",
     "output_type": "stream",
     "text": [
      "0.49169588636530653\n"
     ]
    }
   ],
   "source": [
    "print(cross_entropy_loss(one_hot_vector(vocab,\"happy\"), soft))"
   ]
  },
  {
   "cell_type": "code",
   "execution_count": null,
   "metadata": {},
   "outputs": [],
   "source": [
    "class Model(nn.Module):\n",
    "\n",
    "    def __init__(self, in_features=4, h1=8, h2=9, out_features=3) -> None:\n",
    "        super().__init__()\n",
    "        self.fc1 = nn.Linear(in_features,h1)\n",
    "        self.fc2 = nn.Linear(h1,h2)\n",
    "        self.out = nn.Linear(h2, out_features)\n",
    "\n",
    "    def forward(self, x):\n",
    "        x = F.relu(self.fc1(x))\n",
    "        x = F.relu(self.fc2(x))\n",
    "        x = self.out(x)\n",
    "\n",
    "        return x "
   ]
  },
  {
   "cell_type": "code",
   "execution_count": null,
   "metadata": {},
   "outputs": [],
   "source": []
  }
 ],
 "metadata": {
  "kernelspec": {
   "display_name": "base",
   "language": "python",
   "name": "python3"
  },
  "language_info": {
   "codemirror_mode": {
    "name": "ipython",
    "version": 3
   },
   "file_extension": ".py",
   "mimetype": "text/x-python",
   "name": "python",
   "nbconvert_exporter": "python",
   "pygments_lexer": "ipython3",
   "version": "3.1.undefined"
  }
 },
 "nbformat": 4,
 "nbformat_minor": 2
}
